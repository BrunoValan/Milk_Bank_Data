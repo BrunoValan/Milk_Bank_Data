{
 "cells": [
  {
   "cell_type": "code",
   "execution_count": 1,
   "metadata": {},
   "outputs": [],
   "source": [
    "import numpy as np\n",
    "import pandas as pd"
   ]
  },
  {
   "cell_type": "code",
   "execution_count": 2,
   "metadata": {},
   "outputs": [
    {
     "data": {
      "text/plain": [
       "(254, 8)"
      ]
     },
     "execution_count": 2,
     "metadata": {},
     "output_type": "execute_result"
    }
   ],
   "source": [
    "data_df = pd.read_excel('NYMB Manhattan Donors UPDATED with shipments.xlsx')\n",
    "data_df.dropna(inplace=True)\n",
    "data_df.shape"
   ]
  },
  {
   "cell_type": "code",
   "execution_count": 3,
   "metadata": {},
   "outputs": [
    {
     "data": {
      "text/html": [
       "<div>\n",
       "<style scoped>\n",
       "    .dataframe tbody tr th:only-of-type {\n",
       "        vertical-align: middle;\n",
       "    }\n",
       "\n",
       "    .dataframe tbody tr th {\n",
       "        vertical-align: top;\n",
       "    }\n",
       "\n",
       "    .dataframe thead th {\n",
       "        text-align: right;\n",
       "    }\n",
       "</style>\n",
       "<table border=\"1\" class=\"dataframe\">\n",
       "  <thead>\n",
       "    <tr style=\"text-align: right;\">\n",
       "      <th></th>\n",
       "      <th>Donor Number</th>\n",
       "      <th>DOFD</th>\n",
       "      <th>DOLD</th>\n",
       "      <th>#Oz</th>\n",
       "      <th>Zip code</th>\n",
       "      <th>Origin</th>\n",
       "      <th>Neighborhood</th>\n",
       "      <th>Number of Shipments</th>\n",
       "    </tr>\n",
       "  </thead>\n",
       "  <tbody>\n",
       "    <tr>\n",
       "      <th>0</th>\n",
       "      <td>1</td>\n",
       "      <td>2022-08-02</td>\n",
       "      <td>2022-08-02 00:00:00</td>\n",
       "      <td>247</td>\n",
       "      <td>10280</td>\n",
       "      <td>Shipped from Donor</td>\n",
       "      <td>Battery Park</td>\n",
       "      <td>1.0</td>\n",
       "    </tr>\n",
       "    <tr>\n",
       "      <th>1</th>\n",
       "      <td>2</td>\n",
       "      <td>2019-04-10</td>\n",
       "      <td>2019-05-10 00:00:00</td>\n",
       "      <td>596</td>\n",
       "      <td>10282</td>\n",
       "      <td>\\tColumbia Midtown</td>\n",
       "      <td>Battery Park</td>\n",
       "      <td>3.0</td>\n",
       "    </tr>\n",
       "    <tr>\n",
       "      <th>2</th>\n",
       "      <td>3</td>\n",
       "      <td>2019-05-17</td>\n",
       "      <td>2019-05-17 00:00:00</td>\n",
       "      <td>360</td>\n",
       "      <td>10282</td>\n",
       "      <td>Shipped from Donor</td>\n",
       "      <td>Battery Park</td>\n",
       "      <td>1.0</td>\n",
       "    </tr>\n",
       "    <tr>\n",
       "      <th>3</th>\n",
       "      <td>4</td>\n",
       "      <td>2016-07-06</td>\n",
       "      <td>2016-10-07 00:00:00</td>\n",
       "      <td>303</td>\n",
       "      <td>10282</td>\n",
       "      <td>Shipped from Donor</td>\n",
       "      <td>Battery Park</td>\n",
       "      <td>2.0</td>\n",
       "    </tr>\n",
       "    <tr>\n",
       "      <th>4</th>\n",
       "      <td>5</td>\n",
       "      <td>2021-04-09</td>\n",
       "      <td>2021-05-07 00:00:00</td>\n",
       "      <td>603</td>\n",
       "      <td>10280</td>\n",
       "      <td>Shipped from Donor</td>\n",
       "      <td>Battery Park</td>\n",
       "      <td>2.0</td>\n",
       "    </tr>\n",
       "  </tbody>\n",
       "</table>\n",
       "</div>"
      ],
      "text/plain": [
       "   Donor Number       DOFD                 DOLD  #Oz  Zip code  \\\n",
       "0             1 2022-08-02  2022-08-02 00:00:00  247     10280   \n",
       "1             2 2019-04-10  2019-05-10 00:00:00  596     10282   \n",
       "2             3 2019-05-17  2019-05-17 00:00:00  360     10282   \n",
       "3             4 2016-07-06  2016-10-07 00:00:00  303     10282   \n",
       "4             5 2021-04-09  2021-05-07 00:00:00  603     10280   \n",
       "\n",
       "               Origin  Neighborhood  Number of Shipments  \n",
       "0  Shipped from Donor  Battery Park                  1.0  \n",
       "1  \\tColumbia Midtown  Battery Park                  3.0  \n",
       "2  Shipped from Donor  Battery Park                  1.0  \n",
       "3  Shipped from Donor  Battery Park                  2.0  \n",
       "4  Shipped from Donor  Battery Park                  2.0  "
      ]
     },
     "execution_count": 3,
     "metadata": {},
     "output_type": "execute_result"
    }
   ],
   "source": [
    "data_df.head()"
   ]
  },
  {
   "cell_type": "code",
   "execution_count": 4,
   "metadata": {},
   "outputs": [
    {
     "data": {
      "text/plain": [
       "Donor Number                    int64\n",
       "DOFD                   datetime64[ns]\n",
       "DOLD                           object\n",
       "#Oz                            object\n",
       "Zip code                        int64\n",
       "Origin                         object\n",
       "Neighborhood                   object\n",
       "Number of Shipments           float64\n",
       "dtype: object"
      ]
     },
     "execution_count": 4,
     "metadata": {},
     "output_type": "execute_result"
    }
   ],
   "source": [
    "data_df.dtypes"
   ]
  },
  {
   "cell_type": "code",
   "execution_count": 5,
   "metadata": {},
   "outputs": [],
   "source": [
    "# convert DOLD to datetime\n",
    "data_df['DOLD'] = pd.to_datetime(data_df['DOLD'])\n",
    "\n",
    "# convert number of ounces to float\n",
    "data_df['#Oz'] = data_df['#Oz'].replace(regex=[r'\\D+'], value=\"\")\n",
    "data_df['#Oz'] = data_df['#Oz'].astype(float)\n",
    "\n",
    "# convert number of shipments to integer\n",
    "data_df['Number of Shipments'] = data_df['Number of Shipments'].astype('int64')\n"
   ]
  },
  {
   "cell_type": "code",
   "execution_count": 6,
   "metadata": {},
   "outputs": [
    {
     "data": {
      "text/html": [
       "<div>\n",
       "<style scoped>\n",
       "    .dataframe tbody tr th:only-of-type {\n",
       "        vertical-align: middle;\n",
       "    }\n",
       "\n",
       "    .dataframe tbody tr th {\n",
       "        vertical-align: top;\n",
       "    }\n",
       "\n",
       "    .dataframe thead th {\n",
       "        text-align: right;\n",
       "    }\n",
       "</style>\n",
       "<table border=\"1\" class=\"dataframe\">\n",
       "  <thead>\n",
       "    <tr style=\"text-align: right;\">\n",
       "      <th></th>\n",
       "      <th>Donor Number</th>\n",
       "      <th>DOFD</th>\n",
       "      <th>DOLD</th>\n",
       "      <th>#Oz</th>\n",
       "      <th>Zip code</th>\n",
       "      <th>Origin</th>\n",
       "      <th>Neighborhood</th>\n",
       "      <th>Number of Shipments</th>\n",
       "    </tr>\n",
       "  </thead>\n",
       "  <tbody>\n",
       "    <tr>\n",
       "      <th>0</th>\n",
       "      <td>1</td>\n",
       "      <td>2022-08-02</td>\n",
       "      <td>2022-08-02</td>\n",
       "      <td>247.0</td>\n",
       "      <td>10280</td>\n",
       "      <td>Shipped from Donor</td>\n",
       "      <td>Battery Park</td>\n",
       "      <td>1</td>\n",
       "    </tr>\n",
       "    <tr>\n",
       "      <th>1</th>\n",
       "      <td>2</td>\n",
       "      <td>2019-04-10</td>\n",
       "      <td>2019-05-10</td>\n",
       "      <td>596.0</td>\n",
       "      <td>10282</td>\n",
       "      <td>\\tColumbia Midtown</td>\n",
       "      <td>Battery Park</td>\n",
       "      <td>3</td>\n",
       "    </tr>\n",
       "    <tr>\n",
       "      <th>2</th>\n",
       "      <td>3</td>\n",
       "      <td>2019-05-17</td>\n",
       "      <td>2019-05-17</td>\n",
       "      <td>360.0</td>\n",
       "      <td>10282</td>\n",
       "      <td>Shipped from Donor</td>\n",
       "      <td>Battery Park</td>\n",
       "      <td>1</td>\n",
       "    </tr>\n",
       "    <tr>\n",
       "      <th>3</th>\n",
       "      <td>4</td>\n",
       "      <td>2016-07-06</td>\n",
       "      <td>2016-10-07</td>\n",
       "      <td>303.0</td>\n",
       "      <td>10282</td>\n",
       "      <td>Shipped from Donor</td>\n",
       "      <td>Battery Park</td>\n",
       "      <td>2</td>\n",
       "    </tr>\n",
       "    <tr>\n",
       "      <th>4</th>\n",
       "      <td>5</td>\n",
       "      <td>2021-04-09</td>\n",
       "      <td>2021-05-07</td>\n",
       "      <td>603.0</td>\n",
       "      <td>10280</td>\n",
       "      <td>Shipped from Donor</td>\n",
       "      <td>Battery Park</td>\n",
       "      <td>2</td>\n",
       "    </tr>\n",
       "  </tbody>\n",
       "</table>\n",
       "</div>"
      ],
      "text/plain": [
       "   Donor Number       DOFD       DOLD    #Oz  Zip code              Origin  \\\n",
       "0             1 2022-08-02 2022-08-02  247.0     10280  Shipped from Donor   \n",
       "1             2 2019-04-10 2019-05-10  596.0     10282  \\tColumbia Midtown   \n",
       "2             3 2019-05-17 2019-05-17  360.0     10282  Shipped from Donor   \n",
       "3             4 2016-07-06 2016-10-07  303.0     10282  Shipped from Donor   \n",
       "4             5 2021-04-09 2021-05-07  603.0     10280  Shipped from Donor   \n",
       "\n",
       "   Neighborhood  Number of Shipments  \n",
       "0  Battery Park                    1  \n",
       "1  Battery Park                    3  \n",
       "2  Battery Park                    1  \n",
       "3  Battery Park                    2  \n",
       "4  Battery Park                    2  "
      ]
     },
     "execution_count": 6,
     "metadata": {},
     "output_type": "execute_result"
    }
   ],
   "source": [
    "data_df.head()"
   ]
  },
  {
   "cell_type": "code",
   "execution_count": 7,
   "metadata": {},
   "outputs": [
    {
     "data": {
      "text/plain": [
       "Donor Number                    int64\n",
       "DOFD                   datetime64[ns]\n",
       "DOLD                   datetime64[ns]\n",
       "#Oz                           float64\n",
       "Zip code                        int64\n",
       "Origin                         object\n",
       "Neighborhood                   object\n",
       "Number of Shipments             int64\n",
       "dtype: object"
      ]
     },
     "execution_count": 7,
     "metadata": {},
     "output_type": "execute_result"
    }
   ],
   "source": [
    "data_df.dtypes"
   ]
  },
  {
   "cell_type": "code",
   "execution_count": 8,
   "metadata": {},
   "outputs": [
    {
     "data": {
      "text/plain": [
       "Neighborhood\n",
       "Bowling Green                           2109.382928\n",
       "Meatpacking District                     887.649534\n",
       "Murray Hill                              710.655927\n",
       "Roosevelt Island                         675.000000\n",
       "upper west side                          668.585151\n",
       "upper east side                          656.023823\n",
       "Morningside Heights                      636.742004\n",
       "Chelsea                                  635.237596\n",
       "East Village                             595.168269\n",
       "Midtown-West side                        575.703411\n",
       "Harlem                                   564.045984\n",
       "City Hall                                564.000000\n",
       "Inwood                                   555.470867\n",
       "Tribeca                                  552.209274\n",
       "Washington Heights (upper west side)     499.336462\n",
       "Battery Park                             433.805911\n",
       "NOHO                                     429.500000\n",
       "Hamilton Heights (upper west side)       408.964604\n",
       "Midtown-East side                        342.023275\n",
       "Stuyvesant Park                          296.896100\n",
       "Lower East Side                          287.602716\n",
       "Wall Street                              102.000000\n",
       "Name: #Oz, dtype: float64"
      ]
     },
     "execution_count": 8,
     "metadata": {},
     "output_type": "execute_result"
    }
   ],
   "source": [
    "data_df.groupby('Neighborhood')['#Oz'].mean().sort_values(ascending=False)"
   ]
  },
  {
   "cell_type": "code",
   "execution_count": 9,
   "metadata": {},
   "outputs": [
    {
     "data": {
      "text/plain": [
       "Neighborhood\n",
       "Meatpacking District                    3.166667\n",
       "City Hall                               3.000000\n",
       "Roosevelt Island                        2.666667\n",
       "upper west side                         2.630435\n",
       "Murray Hill                             2.571429\n",
       "Chelsea                                 2.153846\n",
       "upper east side                         2.129630\n",
       "Morningside Heights                     2.111111\n",
       "East Village                            2.071429\n",
       "NOHO                                    2.000000\n",
       "Harlem                                  2.000000\n",
       "Inwood                                  2.000000\n",
       "Washington Heights (upper west side)    2.000000\n",
       "Tribeca                                 2.000000\n",
       "Midtown-West side                       1.850000\n",
       "Stuyvesant Park                         1.666667\n",
       "Battery Park                            1.666667\n",
       "Lower East Side                         1.500000\n",
       "Midtown-East side                       1.400000\n",
       "Hamilton Heights (upper west side)      1.333333\n",
       "Bowling Green                           1.000000\n",
       "Wall Street                             1.000000\n",
       "Name: Number of Shipments, dtype: float64"
      ]
     },
     "execution_count": 9,
     "metadata": {},
     "output_type": "execute_result"
    }
   ],
   "source": [
    "data_df.groupby('Neighborhood')['Number of Shipments'].mean().sort_values(ascending=False)"
   ]
  },
  {
   "cell_type": "code",
   "execution_count": 10,
   "metadata": {},
   "outputs": [
    {
     "data": {
      "text/plain": [
       "0.7336258228775683"
      ]
     },
     "execution_count": 10,
     "metadata": {},
     "output_type": "execute_result"
    }
   ],
   "source": [
    "data_df['Number of Shipments'].corr(data_df['#Oz'])"
   ]
  },
  {
   "cell_type": "markdown",
   "metadata": {},
   "source": [
    "(No Strong correlation between the number of ounces and number of shipments)"
   ]
  }
 ],
 "metadata": {
  "kernelspec": {
   "display_name": "Python 3.9.12 ('base')",
   "language": "python",
   "name": "python3"
  },
  "language_info": {
   "codemirror_mode": {
    "name": "ipython",
    "version": 3
   },
   "file_extension": ".py",
   "mimetype": "text/x-python",
   "name": "python",
   "nbconvert_exporter": "python",
   "pygments_lexer": "ipython3",
   "version": "3.9.12"
  },
  "orig_nbformat": 4,
  "vscode": {
   "interpreter": {
    "hash": "5bd7c6c6b282cf19243dc2170c264e86e1a4d731acceb63182cd05c39991d4e4"
   }
  }
 },
 "nbformat": 4,
 "nbformat_minor": 2
}

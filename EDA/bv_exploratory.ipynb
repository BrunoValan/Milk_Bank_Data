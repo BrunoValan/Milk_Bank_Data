{
 "cells": [
  {
   "cell_type": "code",
   "execution_count": 70,
   "metadata": {},
   "outputs": [],
   "source": [
    "import pandas as pd\n",
    "import numpy as np\n"
   ]
  },
  {
   "cell_type": "code",
   "execution_count": 71,
   "metadata": {},
   "outputs": [
    {
     "data": {
      "text/html": [
       "<div>\n",
       "<style scoped>\n",
       "    .dataframe tbody tr th:only-of-type {\n",
       "        vertical-align: middle;\n",
       "    }\n",
       "\n",
       "    .dataframe tbody tr th {\n",
       "        vertical-align: top;\n",
       "    }\n",
       "\n",
       "    .dataframe thead th {\n",
       "        text-align: right;\n",
       "    }\n",
       "</style>\n",
       "<table border=\"1\" class=\"dataframe\">\n",
       "  <thead>\n",
       "    <tr style=\"text-align: right;\">\n",
       "      <th></th>\n",
       "      <th>Donor Number</th>\n",
       "      <th>DOFD</th>\n",
       "      <th>DOLD</th>\n",
       "      <th>#Oz</th>\n",
       "      <th>Zip code</th>\n",
       "      <th>Origin</th>\n",
       "      <th>Neighborhood</th>\n",
       "      <th>Number of Shipments</th>\n",
       "    </tr>\n",
       "  </thead>\n",
       "  <tbody>\n",
       "    <tr>\n",
       "      <th>0</th>\n",
       "      <td>1</td>\n",
       "      <td>2022-08-02</td>\n",
       "      <td>2022-08-02 00:00:00</td>\n",
       "      <td>247.0</td>\n",
       "      <td>10280</td>\n",
       "      <td>Shipped from Donor</td>\n",
       "      <td>Battery Park</td>\n",
       "      <td>1.0</td>\n",
       "    </tr>\n",
       "    <tr>\n",
       "      <th>1</th>\n",
       "      <td>2</td>\n",
       "      <td>2019-04-10</td>\n",
       "      <td>2019-05-10 00:00:00</td>\n",
       "      <td>596.0</td>\n",
       "      <td>10282</td>\n",
       "      <td>\\tColumbia Midtown</td>\n",
       "      <td>Battery Park</td>\n",
       "      <td>3.0</td>\n",
       "    </tr>\n",
       "    <tr>\n",
       "      <th>2</th>\n",
       "      <td>3</td>\n",
       "      <td>2019-05-17</td>\n",
       "      <td>2019-05-17 00:00:00</td>\n",
       "      <td>360.0</td>\n",
       "      <td>10282</td>\n",
       "      <td>Shipped from Donor</td>\n",
       "      <td>Battery Park</td>\n",
       "      <td>1.0</td>\n",
       "    </tr>\n",
       "    <tr>\n",
       "      <th>3</th>\n",
       "      <td>4</td>\n",
       "      <td>2016-07-06</td>\n",
       "      <td>2016-10-07 00:00:00</td>\n",
       "      <td>303.0</td>\n",
       "      <td>10282</td>\n",
       "      <td>Shipped from Donor</td>\n",
       "      <td>Battery Park</td>\n",
       "      <td>2.0</td>\n",
       "    </tr>\n",
       "    <tr>\n",
       "      <th>4</th>\n",
       "      <td>5</td>\n",
       "      <td>2021-04-09</td>\n",
       "      <td>2021-05-07 00:00:00</td>\n",
       "      <td>603.0</td>\n",
       "      <td>10280</td>\n",
       "      <td>Shipped from Donor</td>\n",
       "      <td>Battery Park</td>\n",
       "      <td>2.0</td>\n",
       "    </tr>\n",
       "  </tbody>\n",
       "</table>\n",
       "</div>"
      ],
      "text/plain": [
       "   Donor Number       DOFD                 DOLD    #Oz  Zip code  \\\n",
       "0             1 2022-08-02  2022-08-02 00:00:00  247.0     10280   \n",
       "1             2 2019-04-10  2019-05-10 00:00:00  596.0     10282   \n",
       "2             3 2019-05-17  2019-05-17 00:00:00  360.0     10282   \n",
       "3             4 2016-07-06  2016-10-07 00:00:00  303.0     10282   \n",
       "4             5 2021-04-09  2021-05-07 00:00:00  603.0     10280   \n",
       "\n",
       "               Origin  Neighborhood Number of Shipments  \n",
       "0  Shipped from Donor  Battery Park                 1.0  \n",
       "1  \\tColumbia Midtown  Battery Park                 3.0  \n",
       "2  Shipped from Donor  Battery Park                 1.0  \n",
       "3  Shipped from Donor  Battery Park                 2.0  \n",
       "4  Shipped from Donor  Battery Park                 2.0  "
      ]
     },
     "metadata": {},
     "output_type": "display_data"
    },
    {
     "data": {
      "text/plain": [
       "Donor Number                    int64\n",
       "DOFD                   datetime64[ns]\n",
       "DOLD                           object\n",
       "#Oz                            object\n",
       "Zip code                        int64\n",
       "Origin                         object\n",
       "Neighborhood                   object\n",
       "Number of Shipments            object\n",
       "dtype: object"
      ]
     },
     "execution_count": 71,
     "metadata": {},
     "output_type": "execute_result"
    }
   ],
   "source": [
    "\n",
    "raw_df = pd.read_excel('NYMB_updates.xlsx')\n",
    "display(raw_df.head())\n",
    "raw_df = raw_df.dropna()\n",
    "raw_df.dtypes"
   ]
  },
  {
   "cell_type": "code",
   "execution_count": 72,
   "metadata": {},
   "outputs": [
    {
     "data": {
      "text/plain": [
       "41"
      ]
     },
     "metadata": {},
     "output_type": "display_data"
    },
    {
     "data": {
      "text/plain": [
       "22"
      ]
     },
     "metadata": {},
     "output_type": "display_data"
    },
    {
     "data": {
      "text/plain": [
       "Donor Number           0\n",
       "DOFD                   0\n",
       "DOLD                   0\n",
       "#Oz                    0\n",
       "Zip code               0\n",
       "Origin                 0\n",
       "Neighborhood           0\n",
       "Number of Shipments    0\n",
       "dtype: int64"
      ]
     },
     "metadata": {},
     "output_type": "display_data"
    }
   ],
   "source": [
    "display(raw_df['Zip code'].nunique())\n",
    "display(raw_df['Neighborhood'].nunique())\n",
    "display(raw_df.isnull().sum())"
   ]
  },
  {
   "cell_type": "code",
   "execution_count": 80,
   "metadata": {},
   "outputs": [
    {
     "data": {
      "text/plain": [
       "Donor Number                    int64\n",
       "DOFD                   datetime64[ns]\n",
       "DOLD                           object\n",
       "Oz                            float64\n",
       "Zip code                        int64\n",
       "Origin                         object\n",
       "Neighborhood                   object\n",
       "Number of Shipments            object\n",
       "dtype: object"
      ]
     },
     "execution_count": 80,
     "metadata": {},
     "output_type": "execute_result"
    }
   ],
   "source": [
    "#clean up Oz column \n",
    "raw_df.rename(columns = {'#Oz':'Oz'}, inplace = True)\n",
    "raw_df['Oz'] = raw_df['Oz'].replace(regex=[r'\\D+'], value=\"\")\n",
    "raw_df['Oz'] = raw_df['Oz'].astype(float)\n"
   ]
  },
  {
   "cell_type": "code",
   "execution_count": 85,
   "metadata": {},
   "outputs": [
    {
     "data": {
      "text/plain": [
       "Neighborhood\n",
       "Bowling Green                           2109.382928\n",
       "Meatpacking District                     887.649534\n",
       "Murray Hill                              710.655927\n",
       "upper west side                          677.551425\n",
       "Roosevelt Island                         675.000000\n",
       "upper east side                          656.023823\n",
       "Morningside Heights                      636.742004\n",
       "Chelsea                                  635.237596\n",
       "East Village                             595.168269\n",
       "Midtown-West side                        575.703411\n",
       "Harlem                                   564.045984\n",
       "City Hall                                564.000000\n",
       "Inwood                                   555.470867\n",
       "Tribeca                                  552.209274\n",
       "Washington Heights (upper west side)     499.336462\n",
       "Battery Park                             433.805911\n",
       "NOHO                                     429.500000\n",
       "Hamilton Heights (upper west side)       408.964604\n",
       "Midtown-East side                        342.023275\n",
       "Stuyvesant Park                          296.896100\n",
       "Lower East Side                          287.602716\n",
       "Wall Street                              102.000000\n",
       "Name: Oz, dtype: float64"
      ]
     },
     "execution_count": 85,
     "metadata": {},
     "output_type": "execute_result"
    }
   ],
   "source": [
    "raw_df.groupby('Neighborhood')['Oz'].mean().sort_values(ascending = False)\n"
   ]
  }
 ],
 "metadata": {
  "kernelspec": {
   "display_name": "Python 3.9.12 ('base')",
   "language": "python",
   "name": "python3"
  },
  "language_info": {
   "codemirror_mode": {
    "name": "ipython",
    "version": 3
   },
   "file_extension": ".py",
   "mimetype": "text/x-python",
   "name": "python",
   "nbconvert_exporter": "python",
   "pygments_lexer": "ipython3",
   "version": "3.9.12"
  },
  "orig_nbformat": 4,
  "vscode": {
   "interpreter": {
    "hash": "cf6d1caee5e13aa4bdb1500d81dd78efea177e564365101185610b77a45ad0b2"
   }
  }
 },
 "nbformat": 4,
 "nbformat_minor": 2
}
